{
 "cells": [
  {
   "cell_type": "code",
   "execution_count": 89,
   "id": "1181bf3d-17e3-4e00-8a40-80a44c39e753",
   "metadata": {},
   "outputs": [],
   "source": [
    "import pandas as pd \n",
    "import numpy as np \n",
    "import os\n",
    "import plotly.express as px\n",
    "import plotly.graph_objects as go\n",
    "import pickle as pkl\n",
    "from plotly.subplots import make_subplots\n",
    "from collections import Counter\n",
    "from Bio.PDB import PDBParser"
   ]
  },
  {
   "cell_type": "code",
   "execution_count": 129,
   "id": "276607df-4718-4689-b7b9-9a13beba9f3b",
   "metadata": {},
   "outputs": [],
   "source": [
    "cf_colors = {\"No cofactor\": \"#bebdbd\", \"Other cofactor\": \"gray\", \"ADP/ATP\": \"#1980ed\", \"Coenzyme A\": \"#2ca02c\", \"FAD/FMN\": \"#d62728\", \"GDP/GTP\": \"#9467bd\",\n",
    "             \"Heme\": \"#f0e442\", \"NAD(P)\": \"#FF9900\", \"Inorganic ion\": \"#990099\", \"AA derivative\": \"#fc427b\",\n",
    "             \"Vitamin B\": \"#109618\"}\n",
    "\n",
    "cf_map = {\"No cofactor\": \"No cofactor\", \"Other cofactor\": \"Other cofactor\", \"CHEBI:25524\": \"NAD(P)\", \"CHEBI:61296\": \"ADP/ATP\", \"CHEBI:61292\": \"GDP/GTP\",\n",
    "          \"CHEBI:36981\": \"FAD/FMN\", \"CHEBI:176783\": \"Other cofactor\", \"CHEBI:75769\": \"Vitamin B\",\n",
    "          \"CHEBI:83821\": \"AA derivative\", \"CHEBI:30413\": \"Heme\", \"CHEBI:15346\": \"Coenzyme A\", \n",
    "        \"CHEBI:26191\": \"Other cofactor\", \"CHEBI:36914\": \"Inorganic ion\"}\n",
    "\n",
    "class_map = {\"CHEBI:16646\": \"Carbohydrate & derivatives\", \"CHEBI:63299\": \"Carbohydrate & derivatives\", \"CHEBI:167559\": \"Glycan\", \"CHEBI:37163\": \"Glycan\",\n",
    "              \"CHEBI:35381\": \"Monosaccharide & derivatives\", \"CHEBI:63367\": \"Monosaccharide & derivatives\", \"CHEBI:15841\": \"Oligo- & polypeptide\",\n",
    "              \"CHEBI:25676\": \"Oligo- & polypeptide\", \"CHEBI:33709\": \"AA & derivatives\", \"CHEBI:35238\": \"AA & derivatives\",\n",
    "              \"CHEBI:83821\": \"AA & derivatives\", \"CHEBI:16991\": \"Nucleic acid\", \"CHEBI:33697\": \"Nucleic acid\", \"CHEBI:18282\": \"Nucleobase/nucleoside/nucleotide\",\n",
    "              \"CHEBI:33838\": \"Nucleobase/nucleoside/nucleotide\", \"CHEBI:36976\": \"Nucleobase/nucleoside/nucleotide\", \"CHEBI:18059\": \"Lipid\",\n",
    "              \"CHEBI:36914\": \"Inorganic ion\", \"CHEBI:24867\": \"Inorganic ion\", \"CHEBI:30413\": \"Heme\", \"CHEBI:33733\": \"Hetero nuclear cluster\",\n",
    "              \"Other compound\": \"Other compound\"}\n",
    "\n",
    "class_color = {\"No known ligand\": \"#C7C7C7\", \"Other compound\": \"gray\", \"Several ligands\": \"#343534\", \"Monosaccharide & derivatives\": \"#AA0DFE\", \n",
    "                \"Glycan\": \"#800080\", \"Carbohydrate & derivatives\": \"#FF00FF\", \"AA & derivatives\": \"#00FF00\", \"Oligo- & polypeptide\": \"#109618\",\n",
    "                \"Nucleobase/nucleoside/nucleotide\": \"#0000FF\", \"Nucleic acid\": \"#40E0D0\", \"Lipid\": \"#FF0000\", \"Inorganic ion\": \"#FF9DA6\",\n",
    "                \"Hetero nuclear cluster\": \"#FF7F00\", \"Heme\": \"#FFFF00\"}\n",
    "\n",
    "king_colors = {\"Animalia\": \"orange\", \"Plantae\": \"green\", \"Fungi\": \"#57B9FF\", \"Bacteria\": \"purple\"}\n",
    "\n",
    "org_map = {\"ECOLI\": \"Bacteria\", \"YEAST\": \"Fungi\", \"CANAL\": \"Fungi\", \"ARATH\": \"Plantae\", \n",
    "           \"MAIZE\": \"Plantae\", \"ORYSJ\": \"Plantae\", \"SOYBN\": \"Plantae\", \"DROME\": \"Animalia\", \n",
    "           \"CAEEL\": \"Animalia\", \"MOUSE\": \"Animalia\", \"HUMAN\": \"Animalia\"}\n",
    "\n",
    "org_colors = {\"ECOLI\": \"#0000FF\",\"YEAST\": \"gray\", \"CANAL\": \"#d62728\", \"DROME\": \"#9467bd\",\n",
    "              \"ARATH\": \"#990099\", \"MAIZE\": \"black\", \"ORYSJ\": \"green\", \"SOYBN\": \"brown\",\n",
    "              \"CAEEL\": \"#40E0D0\", \"MOUSE\": \"#f0e442\", \"HUMAN\": \"#FF9900\"}"
   ]
  },
  {
   "cell_type": "code",
   "execution_count": 28,
   "id": "03402d1f-08f0-4813-8c81-ee329cf7e913",
   "metadata": {},
   "outputs": [],
   "source": [
    "def get_prot(pocket_id):\n",
    "    return pocket_id.split(\"_\")[0][3:]\n",
    "\n",
    "\n",
    "def get_prob(pocket_id): \n",
    "    return bs_all.get(pocket_id)[\"Prob\"]\n",
    "\n",
    "\n",
    "def get_pocket_size(pocket_id):\n",
    "    return len(bs_all.get(pocket_id)[\"Res\"])\n",
    "\n",
    "\n",
    "def get_plant_met(prot):\n",
    "    plant_prot = ['Q84MC7', 'Q8H1R0', 'O49686', 'Q9SSM7', 'Q8VZS8',\n",
    "                  'Q6EN42']\n",
    "    if prot in plant_prot:\n",
    "        return True\n",
    "    return False\n",
    "\n",
    "\n",
    "def get_tm_quality(pocket_id):\n",
    "    prot = pocket_id.split(\"_\")[0][3:] \n",
    "    tm_info = tm_all.get(prot)\n",
    "    if tm_info: \n",
    "        return tm_info[\"num_passed\"]\n",
    "    return tm_info"
   ]
  },
  {
   "cell_type": "code",
   "execution_count": 90,
   "id": "05aa751f-bdf9-4690-831b-6d99589043a5",
   "metadata": {},
   "outputs": [
    {
     "data": {
      "text/html": [
       "<div>\n",
       "<style scoped>\n",
       "    .dataframe tbody tr th:only-of-type {\n",
       "        vertical-align: middle;\n",
       "    }\n",
       "\n",
       "    .dataframe tbody tr th {\n",
       "        vertical-align: top;\n",
       "    }\n",
       "\n",
       "    .dataframe thead th {\n",
       "        text-align: right;\n",
       "    }\n",
       "</style>\n",
       "<table border=\"1\" class=\"dataframe\">\n",
       "  <thead>\n",
       "    <tr style=\"text-align: right;\">\n",
       "      <th></th>\n",
       "      <th>pocket_id</th>\n",
       "      <th>organism</th>\n",
       "      <th>res</th>\n",
       "      <th>seq</th>\n",
       "      <th>prob</th>\n",
       "      <th>plddt</th>\n",
       "      <th>pae</th>\n",
       "      <th>hydro</th>\n",
       "      <th>aro</th>\n",
       "      <th>net_charge</th>\n",
       "      <th>...</th>\n",
       "      <th>cf_class</th>\n",
       "      <th>is_tm</th>\n",
       "      <th>tm_note</th>\n",
       "      <th>tm_evidence</th>\n",
       "      <th>plant_met</th>\n",
       "      <th>prot</th>\n",
       "      <th>color_org</th>\n",
       "      <th>domain</th>\n",
       "      <th>num_dom</th>\n",
       "      <th>kingdom</th>\n",
       "    </tr>\n",
       "  </thead>\n",
       "  <tbody>\n",
       "    <tr>\n",
       "      <th>0</th>\n",
       "      <td>AF-P64578_0</td>\n",
       "      <td>ECOLI</td>\n",
       "      <td>(47, 49, 50, 51, 52, 53, 59, 61, 65, 68, 88, 9...</td>\n",
       "      <td>[SER, ASP, ASN, PHE, LYS, TYR, VAL, ASN, ASN, ...</td>\n",
       "      <td>0.509</td>\n",
       "      <td>96.397143</td>\n",
       "      <td>1.785714</td>\n",
       "      <td>-1.871</td>\n",
       "      <td>0.214</td>\n",
       "      <td>0.5</td>\n",
       "      <td>...</td>\n",
       "      <td>No cofactor</td>\n",
       "      <td>False</td>\n",
       "      <td>{}</td>\n",
       "      <td>{}</td>\n",
       "      <td>NaN</td>\n",
       "      <td>P64578</td>\n",
       "      <td>Other species</td>\n",
       "      <td>{'No domain'}</td>\n",
       "      <td>1</td>\n",
       "      <td>Bacteria</td>\n",
       "    </tr>\n",
       "    <tr>\n",
       "      <th>1</th>\n",
       "      <td>AF-P0A8B2_0</td>\n",
       "      <td>ECOLI</td>\n",
       "      <td>(101, 102, 103, 130, 131, 132, 133, 134, 135, ...</td>\n",
       "      <td>[HIS, GLY, LEU, MET, HIS, GLY, HIS, GLY, LYS, ...</td>\n",
       "      <td>0.640</td>\n",
       "      <td>94.033125</td>\n",
       "      <td>2.704167</td>\n",
       "      <td>-0.456</td>\n",
       "      <td>0.062</td>\n",
       "      <td>2.0</td>\n",
       "      <td>...</td>\n",
       "      <td>No cofactor</td>\n",
       "      <td>False</td>\n",
       "      <td>{}</td>\n",
       "      <td>{}</td>\n",
       "      <td>NaN</td>\n",
       "      <td>P0A8B2</td>\n",
       "      <td>Other species</td>\n",
       "      <td>{'Smr domain'}</td>\n",
       "      <td>1</td>\n",
       "      <td>Bacteria</td>\n",
       "    </tr>\n",
       "    <tr>\n",
       "      <th>2</th>\n",
       "      <td>AF-P39380_0</td>\n",
       "      <td>ECOLI</td>\n",
       "      <td>(10, 105, 106, 107, 111, 114, 115, 118, 120, 1...</td>\n",
       "      <td>[ALA, HIS, GLY, THR, PHE, GLU, ILE, GLN, LEU, ...</td>\n",
       "      <td>0.962</td>\n",
       "      <td>94.130769</td>\n",
       "      <td>3.647099</td>\n",
       "      <td>-1.095</td>\n",
       "      <td>0.077</td>\n",
       "      <td>5.0</td>\n",
       "      <td>...</td>\n",
       "      <td>No cofactor</td>\n",
       "      <td>False</td>\n",
       "      <td>{}</td>\n",
       "      <td>{}</td>\n",
       "      <td>NaN</td>\n",
       "      <td>P39380</td>\n",
       "      <td>Other species</td>\n",
       "      <td>{'No domain'}</td>\n",
       "      <td>1</td>\n",
       "      <td>Bacteria</td>\n",
       "    </tr>\n",
       "    <tr>\n",
       "      <th>3</th>\n",
       "      <td>AF-P0AFP2_0</td>\n",
       "      <td>ECOLI</td>\n",
       "      <td>(102, 103, 52, 53, 62, 63, 65, 66, 69, 72, 73,...</td>\n",
       "      <td>[ARG, GLN, TYR, GLY, PRO, ARG, ALA, ARG, GLY, ...</td>\n",
       "      <td>0.606</td>\n",
       "      <td>97.018889</td>\n",
       "      <td>1.679739</td>\n",
       "      <td>-1.367</td>\n",
       "      <td>0.111</td>\n",
       "      <td>4.0</td>\n",
       "      <td>...</td>\n",
       "      <td>No cofactor</td>\n",
       "      <td>False</td>\n",
       "      <td>{}</td>\n",
       "      <td>{}</td>\n",
       "      <td>NaN</td>\n",
       "      <td>P0AFP2</td>\n",
       "      <td>Other species</td>\n",
       "      <td>{'Methylated-DNA-[protein]-cysteine S-methyltr...</td>\n",
       "      <td>1</td>\n",
       "      <td>Bacteria</td>\n",
       "    </tr>\n",
       "    <tr>\n",
       "      <th>4</th>\n",
       "      <td>AF-P04846_0</td>\n",
       "      <td>ECOLI</td>\n",
       "      <td>(113, 138, 139, 142, 184, 203, 205, 206, 230, ...</td>\n",
       "      <td>[PHE, ASN, ASP, ASN, GLU, SER, THR, TYR, ASN, ...</td>\n",
       "      <td>0.725</td>\n",
       "      <td>94.968667</td>\n",
       "      <td>2.409524</td>\n",
       "      <td>-1.040</td>\n",
       "      <td>0.267</td>\n",
       "      <td>-1.5</td>\n",
       "      <td>...</td>\n",
       "      <td>No cofactor</td>\n",
       "      <td>False</td>\n",
       "      <td>{}</td>\n",
       "      <td>{}</td>\n",
       "      <td>NaN</td>\n",
       "      <td>P04846</td>\n",
       "      <td>Other species</td>\n",
       "      <td>{'No domain'}</td>\n",
       "      <td>1</td>\n",
       "      <td>Bacteria</td>\n",
       "    </tr>\n",
       "  </tbody>\n",
       "</table>\n",
       "<p>5 rows × 25 columns</p>\n",
       "</div>"
      ],
      "text/plain": [
       "     pocket_id organism                                                res  \\\n",
       "0  AF-P64578_0    ECOLI  (47, 49, 50, 51, 52, 53, 59, 61, 65, 68, 88, 9...   \n",
       "1  AF-P0A8B2_0    ECOLI  (101, 102, 103, 130, 131, 132, 133, 134, 135, ...   \n",
       "2  AF-P39380_0    ECOLI  (10, 105, 106, 107, 111, 114, 115, 118, 120, 1...   \n",
       "3  AF-P0AFP2_0    ECOLI  (102, 103, 52, 53, 62, 63, 65, 66, 69, 72, 73,...   \n",
       "4  AF-P04846_0    ECOLI  (113, 138, 139, 142, 184, 203, 205, 206, 230, ...   \n",
       "\n",
       "                                                 seq   prob      plddt  \\\n",
       "0  [SER, ASP, ASN, PHE, LYS, TYR, VAL, ASN, ASN, ...  0.509  96.397143   \n",
       "1  [HIS, GLY, LEU, MET, HIS, GLY, HIS, GLY, LYS, ...  0.640  94.033125   \n",
       "2  [ALA, HIS, GLY, THR, PHE, GLU, ILE, GLN, LEU, ...  0.962  94.130769   \n",
       "3  [ARG, GLN, TYR, GLY, PRO, ARG, ALA, ARG, GLY, ...  0.606  97.018889   \n",
       "4  [PHE, ASN, ASP, ASN, GLU, SER, THR, TYR, ASN, ...  0.725  94.968667   \n",
       "\n",
       "        pae  hydro    aro  net_charge  ...     cf_class  is_tm tm_note  \\\n",
       "0  1.785714 -1.871  0.214         0.5  ...  No cofactor  False      {}   \n",
       "1  2.704167 -0.456  0.062         2.0  ...  No cofactor  False      {}   \n",
       "2  3.647099 -1.095  0.077         5.0  ...  No cofactor  False      {}   \n",
       "3  1.679739 -1.367  0.111         4.0  ...  No cofactor  False      {}   \n",
       "4  2.409524 -1.040  0.267        -1.5  ...  No cofactor  False      {}   \n",
       "\n",
       "  tm_evidence plant_met    prot      color_org  \\\n",
       "0          {}       NaN  P64578  Other species   \n",
       "1          {}       NaN  P0A8B2  Other species   \n",
       "2          {}       NaN  P39380  Other species   \n",
       "3          {}       NaN  P0AFP2  Other species   \n",
       "4          {}       NaN  P04846  Other species   \n",
       "\n",
       "                                              domain num_dom   kingdom  \n",
       "0                                      {'No domain'}       1  Bacteria  \n",
       "1                                     {'Smr domain'}       1  Bacteria  \n",
       "2                                      {'No domain'}       1  Bacteria  \n",
       "3  {'Methylated-DNA-[protein]-cysteine S-methyltr...       1  Bacteria  \n",
       "4                                      {'No domain'}       1  Bacteria  \n",
       "\n",
       "[5 rows x 25 columns]"
      ]
     },
     "execution_count": 90,
     "metadata": {},
     "output_type": "execute_result"
    }
   ],
   "source": [
    "out_dir= \"/home/mpimp-golm.mpg.de/zillmer4400/Desktop/linuxdata/pm_clustering/results/pictures\"\n",
    "ORGANISMS = [\"ECOLI\", \"YEAST\", \"CANAL\", \"ARATH\", \"MAIZE\", \"ORYSJ\", \"SOYBN\", \"DROME\", \"CAEEL\", \"MOUSE\", \"HUMAN\"]\n",
    "PROT_PATH = \"../../data/proteins\"\n",
    "RESULTS_PATH = \"../../results\"\n",
    "DB_PATH = \"../../../Pocketeome/db_files\"\n",
    "\n",
    "SEQ_PATH = \"../../results/proteins/seq_len_dict.pkl\"\n",
    "SEQ_DICT = pkl.load(open(SEQ_PATH, \"rb\"))\n",
    "\n",
    "FS_PATH = \"../../../foldseek/fs_clust_proteins.pkl\"\n",
    "FS_DICT = pkl.load(open(FS_PATH, \"rb\"))\n",
    "\n",
    "bs_all = []\n",
    "dom_all = {}\n",
    "for org in ORGANISMS:\n",
    "    bind_dict = pkl.load(open(f\"../../results/bind_dict/{org}_pockets.pkl\", \"rb\")) \n",
    "    dom_dict = pkl.load(open(f\"../../results/pocket_desc/{org}/dom_dict.pkl\", \"rb\"))\n",
    "    dom_all.update(dom_dict)\n",
    "\n",
    "    for prot, pockets in list(bind_dict.items()):\n",
    "        for pocket in pockets: \n",
    "            bs_all.append(pocket)\n",
    "    \n",
    "df = pd.DataFrame.from_records(bs_all)\n",
    "df[\"prot\"] = [pocket_id.split(\"_\")[0][3:] for pocket_id in df[\"pocket_id\"]]\n",
    "df[\"color_org\"] = [org_id if org_id == org else \"Other species\" for org_id in df[\"organism\"]]\n",
    "df[\"domain\"] = df[\"pocket_id\"].map(dom_all)\n",
    "df[\"num_dom\"] = [len(dom[\"domains\"]) for dom in df[\"domain\"]]\n",
    "df[\"domain\"] = [str(dom[\"domains\"]) for dom in df[\"domain\"]]\n",
    "df[\"kingdom\"] = df[\"organism\"].map(org_map)\n",
    "df.head()"
   ]
  },
  {
   "cell_type": "markdown",
   "id": "eae78178-645a-4130-b804-0d8191d35c4b",
   "metadata": {},
   "source": [
    "# Domain information "
   ]
  },
  {
   "cell_type": "code",
   "execution_count": 6,
   "id": "4bf60524-5016-412e-9c8f-8fc2b019a30b",
   "metadata": {},
   "outputs": [
    {
     "name": "stdout",
     "output_type": "stream",
     "text": [
      "Number of pockets that could not be assigned to any domain: 34101 (35.0 %)\n"
     ]
    }
   ],
   "source": [
    "tmp = df[df[\"domain\"] == \"{'No domain'}\"]\n",
    "print(f\"Number of pockets that could not be assigned to any domain: {len(tmp)} ({round(len(tmp)/len(df), 3)*100} %)\")"
   ]
  },
  {
   "cell_type": "code",
   "execution_count": 79,
   "id": "ccd0b8a2-e9da-42aa-9477-df0665ecc4a2",
   "metadata": {},
   "outputs": [
    {
     "name": "stdout",
     "output_type": "stream",
     "text": [
      "Number of pockets found in one domain: 58586\n"
     ]
    },
    {
     "data": {
      "text/plain": [
       "[(\"{'No domain'}\", 34101),\n",
       " (\"{'Protein kinase domain'}\", 4007),\n",
       " (\"{'GPCR, rhodopsin-like, 7TM'}\", 2083),\n",
       " (\"{'Major facilitator superfamily domain'}\", 930),\n",
       " (\"{'Small GTP-binding domain'}\", 665),\n",
       " (\"{'Kinesin motor domain'}\", 584),\n",
       " (\"{'Haem peroxidase'}\", 514),\n",
       " (\"{'ABC transporter-like, ATP-binding domain'}\", 363),\n",
       " (\"{'PPM-type phosphatase-like domain'}\", 308),\n",
       " (\"{'ABC transporter type 1, transmembrane domain'}\", 269),\n",
       " (\"{'Aldehyde dehydrogenase domain'}\", 255),\n",
       " (\"{'Cation/H+ exchanger, transmembrane domain'}\", 248),\n",
       " (\"{'Serine proteases, trypsin domain'}\", 238),\n",
       " (\"{'Ion transport domain'}\", 212),\n",
       " (\"{'Nuclear hormone receptor, ligand-binding domain'}\", 194),\n",
       " (\"{'Alpha/beta hydrolase fold-1'}\", 184),\n",
       " (\"{'Cytochrome b561/ferric reductase transmembrane'}\", 183),\n",
       " (\"{'Cyclophilin-type peptidyl-prolyl cis-trans isomerase domain'}\", 153),\n",
       " (\"{'Tubulin/FtsZ, GTPase domain'}\", 145),\n",
       " (\"{'Glycoside hydrolase family 16'}\", 137),\n",
       " (\"{'GNAT domain'}\", 135),\n",
       " (\"{'Glycoside hydrolase family 18, catalytic domain'}\", 127),\n",
       " (\"{'Bromodomain'}\", 125),\n",
       " (\"{'CRAL-TRIO lipid binding domain'}\", 125),\n",
       " (\"{'Cupin 1'}\", 120),\n",
       " (\"{'EXS, C-terminal'}\", 116),\n",
       " (\"{'Sugar phosphate transporter domain'}\", 116),\n",
       " (\"{'NAD(P)-binding domain'}\", 115),\n",
       " (\"{'Amino acid transporter, transmembrane domain'}\", 104),\n",
       " (\"{'Formin, FH2 domain'}\", 104)]"
      ]
     },
     "execution_count": 79,
     "metadata": {},
     "output_type": "execute_result"
    }
   ],
   "source": [
    "tmp = df[df[\"num_dom\"] == 1]\n",
    "print(f\"Number of pockets found in one domain: {len(tmp)}\")\n",
    "count_dom = Counter(tmp[\"domain\"])\n",
    "count_dom.most_common(30)"
   ]
  },
  {
   "cell_type": "code",
   "execution_count": 7,
   "id": "6929acdb-5ab7-497e-b561-1aaa13ff0859",
   "metadata": {},
   "outputs": [
    {
     "name": "stdout",
     "output_type": "stream",
     "text": [
      "Number of pockets found in more than one domain: 38929\n",
      "Number of pockets at the domain-no-domain interface: 32098\n",
      "Number of pockets found in more than two domains: 9979\n",
      "Number of pockets found in DUF domains: 583\n"
     ]
    }
   ],
   "source": [
    "tmp = df[df[\"num_dom\"] > 1]\n",
    "print(f\"Number of pockets found in more than one domain: {len(tmp)}\")\n",
    "\n",
    "no_dom = 0\n",
    "for dom in tmp[\"domain\"]: \n",
    "    if \"No domain\" in dom: \n",
    "        no_dom += 1\n",
    "print(f\"Number of pockets at the domain-no-domain interface: {no_dom}\")\n",
    "\n",
    "tmp = df[df[\"num_dom\"] > 2]\n",
    "print(f\"Number of pockets found in more than two domains: {len(tmp)}\")\n",
    "\n",
    "df[\"DUF\"] = [True if \"DUF\" in dom else False for dom in df[\"domain\"]]\n",
    "tmp = df[df[\"DUF\"]]\n",
    "print(f\"Number of pockets found in DUF domains: {len(tmp)}\")"
   ]
  },
  {
   "cell_type": "code",
   "execution_count": 11,
   "id": "247cc37a",
   "metadata": {},
   "outputs": [
    {
     "data": {
      "text/plain": [
       "24.0"
      ]
     },
     "execution_count": 11,
     "metadata": {},
     "output_type": "execute_result"
    }
   ],
   "source": [
    "df[\"num_res\"] = [len(res) for res in df[\"res\"]]\n",
    "df[\"num_res\"].median()"
   ]
  },
  {
   "cell_type": "code",
   "execution_count": 138,
   "id": "5a12428b",
   "metadata": {},
   "outputs": [
    {
     "name": "stdout",
     "output_type": "stream",
     "text": [
      "Percent of kinase pockets in community 0 (n=110) of ECOLI: 0.0 %\n",
      "Percent of kinase pockets in community 1 (n=65) of ECOLI: 0.0 %\n",
      "Percent of kinase pockets in community 0 (n=137) of YEAST: 0.0 %\n",
      "Percent of kinase pockets in community 1 (n=128) of YEAST: 83.59 %\n",
      "Percent of kinase pockets in community 0 (n=126) of CANAL: 0.0 %\n",
      "Percent of kinase pockets in community 1 (n=106) of CANAL: 83.02 %\n",
      "Percent of kinase pockets in community 0 (n=897) of ARATH: 95.88 %\n",
      "Percent of kinase pockets in community 1 (n=459) of ARATH: 0.0 %\n",
      "Percent of kinase pockets in community 0 (n=933) of ORYSJ: 90.03 %\n",
      "Percent of kinase pockets in community 1 (n=629) of ORYSJ: 0.0 %\n",
      "Percent of kinase pockets in community 0 (n=1100) of MAIZE: 96.09 %\n",
      "Percent of kinase pockets in community 1 (n=797) of MAIZE: 0.0 %\n",
      "Percent of kinase pockets in community 0 (n=1883) of SOYBN: 96.39 %\n",
      "Percent of kinase pockets in community 1 (n=907) of SOYBN: 0.0 %\n",
      "Percent of kinase pockets in community 0 (n=260) of DROME: 66.15 %\n",
      "Percent of kinase pockets in community 1 (n=220) of DROME: 0.0 %\n",
      "Percent of kinase pockets in community 0 (n=510) of CAEEL: 0.0 %\n",
      "Percent of kinase pockets in community 1 (n=409) of CAEEL: 80.93 %\n",
      "Percent of kinase pockets in community 0 (n=1083) of MOUSE: 0.0 %\n",
      "Percent of kinase pockets in community 1 (n=1059) of MOUSE: 0.0 %\n",
      "Percent of kinase pockets in community 0 (n=470) of HUMAN: 90.0 %\n",
      "Percent of kinase pockets in community 1 (n=431) of HUMAN: 0.0 %\n"
     ]
    }
   ],
   "source": [
    "all_communities = pkl.load(open(f\"{out_dir}/REVISION/all_communities.pkl\", \"rb\"))\n",
    "for org, communities in all_communities.items():\n",
    "    for i in [0, 1]:\n",
    "        is_kinase = 0\n",
    "        for pocket_id in communities[i]:\n",
    "            domains = dom_all.get(pocket_id)[\"domains\"]\n",
    "            for dom in domains:\n",
    "                if \"protein kinase domain\" in dom.lower():\n",
    "                    is_kinase += 1\n",
    "        print(f\"Percent of kinase pockets in community {i} (n={len(communities[i])}) of {org}: {round(is_kinase/len(communities[i])*100, 2)} %\")"
   ]
  },
  {
   "cell_type": "code",
   "execution_count": 32,
   "id": "e9bbe6d2",
   "metadata": {},
   "outputs": [
    {
     "name": "stdout",
     "output_type": "stream",
     "text": [
      "Most common domains in community 0 of MOUSE: [(\"{'GPCR, rhodopsin-like, 7TM'}\", 1032), (\"{'No domain'}\", 34), (\"{'No domain', 'GPCR, rhodopsin-like, 7TM'}\", 7)]\n",
      "Most common domains in community 1 of MOUSE: [(\"{'No domain', 'GPCR, rhodopsin-like, 7TM'}\", 1051), (\"{'No domain'}\", 8)]\n",
      "Most common domains in community 2 of MOUSE: [(\"{'Small GTP-binding domain'}\", 98), (\"{'No domain'}\", 58), (\"{'Kinesin motor domain'}\", 44)]\n",
      "Most common domains in community 3 of MOUSE: [(\"{'Protein kinase domain'}\", 226), (\"{'No domain', 'Protein kinase domain'}\", 145), (\"{'AGC-kinase, C-terminal', 'Protein kinase domain'}\", 34)]\n"
     ]
    }
   ],
   "source": [
    "from collections import Counter\n",
    "for org in [\"MOUSE\"]:\n",
    "    communities = all_communities[org]\n",
    "    for i in [0, 1, 2, 3]:\n",
    "        dom_count = Counter()\n",
    "        for pocket_id in communities[i]:\n",
    "            domains = dom_all.get(pocket_id)[\"domains\"]\n",
    "            domains = str(domains)\n",
    "            dom_count[domains] += 1\n",
    "        most_common = dom_count.most_common(3)\n",
    "        print(f\"Most common domains in community {i} of {org}: {most_common}\")"
   ]
  },
  {
   "cell_type": "code",
   "execution_count": 139,
   "id": "ace66142",
   "metadata": {},
   "outputs": [
    {
     "name": "stdout",
     "output_type": "stream",
     "text": [
      "Pockets ABC transporter-like, ATP-binding domain in community 0 (n=110) of ECOLI: 74\n",
      "Percent of ABC transporter-like, ATP-binding domain in community 0 of ECOLI: 67.27 %\n",
      "Pockets ABC transporter-like, ATP-binding domain in community 1 (n=65) of ECOLI: 0\n",
      "Percent of ABC transporter-like, ATP-binding domain in community 1 of ECOLI: 0.0 %\n"
     ]
    }
   ],
   "source": [
    "org = \"ECOLI\"\n",
    "dom_of_interest = \"ABC transporter-like, ATP-binding domain\"\n",
    "communities = all_communities[org]\n",
    "for i in [0, 1]:\n",
    "    is_kinase = 0\n",
    "    for pocket_id in communities[i]:\n",
    "        domains = dom_all.get(pocket_id)[\"domains\"]\n",
    "        for dom in domains:\n",
    "            if dom == dom_of_interest:\n",
    "                is_kinase += 1\n",
    "    print(f\"Pockets {dom_of_interest} in community {i} (n={len(communities[i])}) of {org}: {is_kinase}\")\n",
    "    print(f\"Percent of {dom_of_interest} in community {i} of {org}: {round(is_kinase/len(communities[i])*100, 2)} %\")"
   ]
  },
  {
   "cell_type": "markdown",
   "id": "952e1012-e784-4107-a1af-d888c1c78503",
   "metadata": {},
   "source": [
    "# Known pockets "
   ]
  },
  {
   "cell_type": "code",
   "execution_count": 116,
   "id": "b493d6e9-35a1-4c6e-a63c-430e55ddbedc",
   "metadata": {},
   "outputs": [
    {
     "data": {
      "text/html": [
       "<div>\n",
       "<style scoped>\n",
       "    .dataframe tbody tr th:only-of-type {\n",
       "        vertical-align: middle;\n",
       "    }\n",
       "\n",
       "    .dataframe tbody tr th {\n",
       "        vertical-align: top;\n",
       "    }\n",
       "\n",
       "    .dataframe thead th {\n",
       "        text-align: right;\n",
       "    }\n",
       "</style>\n",
       "<table border=\"1\" class=\"dataframe\">\n",
       "  <thead>\n",
       "    <tr style=\"text-align: right;\">\n",
       "      <th></th>\n",
       "      <th>org</th>\n",
       "      <th>ligand</th>\n",
       "      <th>lig_name</th>\n",
       "      <th>res</th>\n",
       "      <th>cf</th>\n",
       "      <th>evidence</th>\n",
       "      <th>found</th>\n",
       "      <th>prob</th>\n",
       "      <th>is_inter</th>\n",
       "      <th>EC</th>\n",
       "      <th>lig_class</th>\n",
       "      <th>class_name</th>\n",
       "      <th>jacc</th>\n",
       "      <th>num_res</th>\n",
       "    </tr>\n",
       "  </thead>\n",
       "  <tbody>\n",
       "    <tr>\n",
       "      <th>P0A9U1_0</th>\n",
       "      <td>ECOLI</td>\n",
       "      <td>CHEBI:30616</td>\n",
       "      <td>ATP</td>\n",
       "      <td>[40, 41, 42, 43, 44, 45, 46, 47]</td>\n",
       "      <td>CHEBI:61296</td>\n",
       "      <td>ECO:0000255</td>\n",
       "      <td>True</td>\n",
       "      <td>0.206</td>\n",
       "      <td>False</td>\n",
       "      <td>No EC</td>\n",
       "      <td>CHEBI:36976</td>\n",
       "      <td>Nucleobase/nucleoside/nucleotide</td>\n",
       "      <td>0.50</td>\n",
       "      <td>8</td>\n",
       "    </tr>\n",
       "    <tr>\n",
       "      <th>P0A9U1_1</th>\n",
       "      <td>ECOLI</td>\n",
       "      <td>CHEBI:30616</td>\n",
       "      <td>ATP</td>\n",
       "      <td>[362, 363, 364, 365, 366, 367, 368, 369]</td>\n",
       "      <td>CHEBI:61296</td>\n",
       "      <td>ECO:0000255</td>\n",
       "      <td>True</td>\n",
       "      <td>0.649</td>\n",
       "      <td>False</td>\n",
       "      <td>No EC</td>\n",
       "      <td>CHEBI:36976</td>\n",
       "      <td>Nucleobase/nucleoside/nucleotide</td>\n",
       "      <td>0.62</td>\n",
       "      <td>8</td>\n",
       "    </tr>\n",
       "    <tr>\n",
       "      <th>P0ABS1_0</th>\n",
       "      <td>ECOLI</td>\n",
       "      <td>CHEBI:29105</td>\n",
       "      <td>Zn(2+)</td>\n",
       "      <td>[114, 117, 135, 138]</td>\n",
       "      <td>CHEBI:36914</td>\n",
       "      <td>ECO:0000255</td>\n",
       "      <td>True</td>\n",
       "      <td>0.010</td>\n",
       "      <td>False</td>\n",
       "      <td>No EC</td>\n",
       "      <td>CHEBI:24867</td>\n",
       "      <td>Inorganic ion</td>\n",
       "      <td>0.25</td>\n",
       "      <td>4</td>\n",
       "    </tr>\n",
       "    <tr>\n",
       "      <th>P0A836_0</th>\n",
       "      <td>ECOLI</td>\n",
       "      <td>CHEBI:30616</td>\n",
       "      <td>ATP</td>\n",
       "      <td>[46, 53, 54, 55, 99, 102, 107]</td>\n",
       "      <td>CHEBI:61296</td>\n",
       "      <td>ECO:0000255</td>\n",
       "      <td>True</td>\n",
       "      <td>0.968</td>\n",
       "      <td>False</td>\n",
       "      <td>EC 6.-.-.-</td>\n",
       "      <td>CHEBI:36976</td>\n",
       "      <td>Nucleobase/nucleoside/nucleotide</td>\n",
       "      <td>1.00</td>\n",
       "      <td>7</td>\n",
       "    </tr>\n",
       "    <tr>\n",
       "      <th>P60785_0</th>\n",
       "      <td>ECOLI</td>\n",
       "      <td>CHEBI:37565</td>\n",
       "      <td>GTP</td>\n",
       "      <td>[14, 15, 16, 17, 18, 19, 131, 132, 133, 134]</td>\n",
       "      <td>No cofactor</td>\n",
       "      <td>ECO:0000255</td>\n",
       "      <td>True</td>\n",
       "      <td>0.490</td>\n",
       "      <td>False</td>\n",
       "      <td>EC 3.-.-.-</td>\n",
       "      <td>CHEBI:36976</td>\n",
       "      <td>Nucleobase/nucleoside/nucleotide</td>\n",
       "      <td>0.10</td>\n",
       "      <td>10</td>\n",
       "    </tr>\n",
       "  </tbody>\n",
       "</table>\n",
       "</div>"
      ],
      "text/plain": [
       "            org       ligand lig_name  \\\n",
       "P0A9U1_0  ECOLI  CHEBI:30616      ATP   \n",
       "P0A9U1_1  ECOLI  CHEBI:30616      ATP   \n",
       "P0ABS1_0  ECOLI  CHEBI:29105   Zn(2+)   \n",
       "P0A836_0  ECOLI  CHEBI:30616      ATP   \n",
       "P60785_0  ECOLI  CHEBI:37565      GTP   \n",
       "\n",
       "                                                   res           cf  \\\n",
       "P0A9U1_0              [40, 41, 42, 43, 44, 45, 46, 47]  CHEBI:61296   \n",
       "P0A9U1_1      [362, 363, 364, 365, 366, 367, 368, 369]  CHEBI:61296   \n",
       "P0ABS1_0                          [114, 117, 135, 138]  CHEBI:36914   \n",
       "P0A836_0                [46, 53, 54, 55, 99, 102, 107]  CHEBI:61296   \n",
       "P60785_0  [14, 15, 16, 17, 18, 19, 131, 132, 133, 134]  No cofactor   \n",
       "\n",
       "             evidence  found   prob  is_inter          EC    lig_class  \\\n",
       "P0A9U1_0  ECO:0000255   True  0.206     False       No EC  CHEBI:36976   \n",
       "P0A9U1_1  ECO:0000255   True  0.649     False       No EC  CHEBI:36976   \n",
       "P0ABS1_0  ECO:0000255   True  0.010     False       No EC  CHEBI:24867   \n",
       "P0A836_0  ECO:0000255   True  0.968     False  EC 6.-.-.-  CHEBI:36976   \n",
       "P60785_0  ECO:0000255   True  0.490     False  EC 3.-.-.-  CHEBI:36976   \n",
       "\n",
       "                                class_name  jacc  num_res  \n",
       "P0A9U1_0  Nucleobase/nucleoside/nucleotide  0.50        8  \n",
       "P0A9U1_1  Nucleobase/nucleoside/nucleotide  0.62        8  \n",
       "P0ABS1_0                     Inorganic ion  0.25        4  \n",
       "P0A836_0  Nucleobase/nucleoside/nucleotide  1.00        7  \n",
       "P60785_0  Nucleobase/nucleoside/nucleotide  0.10       10  "
      ]
     },
     "execution_count": 116,
     "metadata": {},
     "output_type": "execute_result"
    }
   ],
   "source": [
    "known_pockets = pkl.load(open(\"../../data/known_pockets/known_pockets_up.pkl\", \"rb\"))\n",
    "new = {}\n",
    "for key, val in known_pockets.items(): \n",
    "    if val:\n",
    "        for idx, pocket in enumerate(val):\n",
    "            \n",
    "            new[f\"{key}_{idx}\"] = pocket\n",
    "\n",
    "known_pockets = pd.DataFrame.from_dict(new, orient=\"index\")\n",
    "known_pockets[\"num_res\"] = [len(res) for res in known_pockets[\"res\"]]\n",
    "# known_pockets[\"lig id\"] = known_pockets[\"ligand\"]\n",
    "# known_pockets[\"class_name\"] = known_pockets[\"lig_class\"].map(class_map)\n",
    "# known_pockets[\"new_lig\"] = [get_chebi(chebi, class_ids) for chebi in known_pockets[\"ligand\"]]\n",
    "known_pockets.head()"
   ]
  },
  {
   "cell_type": "code",
   "execution_count": 120,
   "id": "c7c969b9",
   "metadata": {},
   "outputs": [],
   "source": [
    "pockets_all = []\n",
    "for org in ORGANISMS:\n",
    "    pockets = pkl.load(open(f\"../../results/all_pockets/{org}_pockets.pkl\", \"rb\"))\n",
    "    for prot, pocket_list in pockets.items():\n",
    "        for pocket in pocket_list:\n",
    "            pockets_all.append(pocket)\n",
    "pockets_all = pd.DataFrame.from_records(pockets_all)\n",
    "pockets_all[\"prot\"] = [pocket_id.split(\"_\")[0][3:] for pocket_id in pockets_all[\"pocket_id\"]]\n",
    "pockets_all[\"num_res\"] = [len(res) for res in pockets_all[\"res\"]]"
   ]
  },
  {
   "cell_type": "code",
   "execution_count": 44,
   "id": "c44c6604",
   "metadata": {},
   "outputs": [
    {
     "name": "stdout",
     "output_type": "stream",
     "text": [
      "Median #res for known pockets: 6.0\n"
     ]
    }
   ],
   "source": [
    "med = known_pockets[\"num_res\"].median()\n",
    "print(f\"Median #res for known pockets: {med}\")"
   ]
  },
  {
   "cell_type": "code",
   "execution_count": null,
   "id": "50e2715d",
   "metadata": {},
   "outputs": [
    {
     "name": "stdout",
     "output_type": "stream",
     "text": [
      "0.5\n"
     ]
    },
    {
     "data": {
      "text/plain": [
       "[('ATP', 4811),\n",
       " ('GTP', 928),\n",
       " ('NAD(+)', 623),\n",
       " ('NADP(+)', 494),\n",
       " ('S-adenosyl-L-methionine', 468),\n",
       " ('FAD', 463),\n",
       " ('Zn(2+)', 306),\n",
       " ('Mn(2+)', 290),\n",
       " ('Fe cation', 202),\n",
       " ('UDP-alpha-D-glucose', 140),\n",
       " (\"pyridoxal 5'-phosphate\", 116),\n",
       " ('FMN', 112),\n",
       " ('AMP', 110),\n",
       " ('acetyl-CoA', 106),\n",
       " ('a divalent metal cation', 105),\n",
       " (\"3'-phosphoadenylyl sulfate\", 100),\n",
       " ('Ca(2+)', 98),\n",
       " ('Mg(2+)', 86),\n",
       " ('a beta-D-glucoside', 83),\n",
       " ('glutathione', 75)]"
      ]
     },
     "execution_count": 47,
     "metadata": {},
     "output_type": "execute_result"
    }
   ],
   "source": [
    "tmp = known_pockets[known_pockets[\"found\"] == True]\n",
    "counts = Counter(tmp[\"lig_name\"])\n",
    "counts.most_common(20)"
   ]
  },
  {
   "cell_type": "code",
   "execution_count": 42,
   "id": "e3f137f5-1c65-4ff6-9f99-c7effc817d6e",
   "metadata": {},
   "outputs": [
    {
     "data": {
      "text/plain": [
       "[('ATP', 6327),\n",
       " ('Zn(2+)', 3949),\n",
       " ('Ca(2+)', 3396),\n",
       " ('GTP', 1244),\n",
       " ('NAD(+)', 663),\n",
       " ('NADP(+)', 579),\n",
       " ('FAD', 537),\n",
       " ('S-adenosyl-L-methionine', 520),\n",
       " ('Mn(2+)', 381),\n",
       " ('[4Fe-4S] cluster', 362),\n",
       " ('Fe cation', 251),\n",
       " ('glutathione', 165),\n",
       " ('Mg(2+)', 163),\n",
       " ('FMN', 157),\n",
       " ('[2Fe-2S] cluster', 150),\n",
       " ('UDP-alpha-D-glucose', 144),\n",
       " ('AMP', 138),\n",
       " ('acetyl-CoA', 126),\n",
       " (\"pyridoxal 5'-phosphate\", 124),\n",
       " ('a divalent metal cation', 121),\n",
       " (\"3'-phosphoadenylyl sulfate\", 106),\n",
       " ('CoA', 92),\n",
       " ('a beta-D-glucoside', 84),\n",
       " ('L-glutamate', 73),\n",
       " ('chlorophyll a', 63),\n",
       " ('ADP', 59),\n",
       " ('K(+)', 53),\n",
       " ('2-oxoglutarate', 52),\n",
       " ('Na(+)', 51),\n",
       " ('D-glyceraldehyde 3-phosphate', 42)]"
      ]
     },
     "execution_count": 42,
     "metadata": {},
     "output_type": "execute_result"
    }
   ],
   "source": [
    "count = Counter(known_pockets[\"lig_name\"])\n",
    "count.most_common(30)"
   ]
  },
  {
   "cell_type": "code",
   "execution_count": 99,
   "id": "dea7c1cf-c8c8-4205-8517-88029a11cf91",
   "metadata": {},
   "outputs": [],
   "source": [
    "counter = Counter(known_pockets[\"class_name\"])\n",
    "num_dict = {lig_class: f\"{lig_class} ({num})\" for lig_class,num in counter.items()}\n",
    "class_color2 = {num_dict.get(lig_class): color for lig_class, color in class_color.items() if lig_class in num_dict}"
   ]
  },
  {
   "cell_type": "code",
   "execution_count": 117,
   "id": "48d4c34b",
   "metadata": {},
   "outputs": [
    {
     "data": {
      "text/plain": [
       "Counter({'CHEBI:36976': 10154,\n",
       "         'CHEBI:24867': 8418,\n",
       "         'Other compound': 1410,\n",
       "         'CHEBI:83821': 60,\n",
       "         'CHEBI:18059': 267,\n",
       "         'CHEBI:33709': 192,\n",
       "         'CHEBI:16646': 18,\n",
       "         'CHEBI:33733': 517,\n",
       "         'CHEBI:25676': 168,\n",
       "         'CHEBI:36914': 38,\n",
       "         'CHEBI:63299': 633,\n",
       "         'CHEBI:18282': 4,\n",
       "         'CHEBI:35381': 92,\n",
       "         'CHEBI:63367': 13,\n",
       "         'CHEBI:35238': 143,\n",
       "         'CHEBI:30413': 13,\n",
       "         'CHEBI:33838': 15,\n",
       "         'CHEBI:37163': 41,\n",
       "         'CHEBI:16991': 7,\n",
       "         'CHEBI:15841': 3})"
      ]
     },
     "execution_count": 117,
     "metadata": {},
     "output_type": "execute_result"
    }
   ],
   "source": [
    "count = Counter(known_pockets[\"lig_class\"])\n",
    "count"
   ]
  },
  {
   "cell_type": "code",
   "execution_count": 124,
   "id": "4976ed39",
   "metadata": {},
   "outputs": [
    {
     "name": "stdout",
     "output_type": "stream",
     "text": [
      "Threshold: 0, Found: 16364, Not found: 5842, Ratio: 0.737, # pred. pockets: 715522\n",
      "Threshold: 0.1, Found: 14060, Not found: 8146, Ratio: 0.633, # pred. pockets: 265067\n",
      "Threshold: 0.2, Found: 13104, Not found: 9102, Ratio: 0.59, # pred. pockets: 176156\n",
      "Threshold: 0.3, Found: 12498, Not found: 9708, Ratio: 0.563, # pred. pockets: 137531\n",
      "Threshold: 0.4, Found: 12027, Not found: 10179, Ratio: 0.542, # pred. pockets: 114730\n",
      "Threshold: 0.5, Found: 11540, Not found: 10666, Ratio: 0.52, # pred. pockets: 97515\n",
      "Threshold: 0.6, Found: 10943, Not found: 11263, Ratio: 0.493, # pred. pockets: 81068\n",
      "Threshold: 0.7, Found: 10030, Not found: 12176, Ratio: 0.452, # pred. pockets: 66346\n",
      "Threshold: 0.8, Found: 8452, Not found: 13754, Ratio: 0.381, # pred. pockets: 50381\n",
      "Threshold: 0.9, Found: 5371, Not found: 16835, Ratio: 0.242, # pred. pockets: 29361\n"
     ]
    }
   ],
   "source": [
    "for th in [0, 0.1, 0.2, 0.3, 0.4, 0.5, 0.6, 0.7, 0.8, 0.9]:\n",
    "    num_pockets = len(pockets_all[(pockets_all[\"prob\"] >= th)])\n",
    "    n_found = len(known_pockets[(known_pockets[\"prob\"] >= th) & (known_pockets[\"found\"] == True)])\n",
    "    not_found = len(known_pockets) - n_found\n",
    "    print(f\"Threshold: {th}, Found: {n_found}, Not found: {not_found}, Ratio: {round(n_found/len(known_pockets), 3)}, # pred. pockets: {num_pockets}\")"
   ]
  },
  {
   "cell_type": "code",
   "execution_count": 119,
   "id": "cb49d714",
   "metadata": {},
   "outputs": [
    {
     "data": {
      "text/html": [
       "<div>\n",
       "<style scoped>\n",
       "    .dataframe tbody tr th:only-of-type {\n",
       "        vertical-align: middle;\n",
       "    }\n",
       "\n",
       "    .dataframe tbody tr th {\n",
       "        vertical-align: top;\n",
       "    }\n",
       "\n",
       "    .dataframe thead th {\n",
       "        text-align: right;\n",
       "    }\n",
       "</style>\n",
       "<table border=\"1\" class=\"dataframe\">\n",
       "  <thead>\n",
       "    <tr style=\"text-align: right;\">\n",
       "      <th></th>\n",
       "      <th>org</th>\n",
       "      <th>ligand</th>\n",
       "      <th>lig_name</th>\n",
       "      <th>res</th>\n",
       "      <th>cf</th>\n",
       "      <th>evidence</th>\n",
       "      <th>found</th>\n",
       "      <th>prob</th>\n",
       "      <th>is_inter</th>\n",
       "      <th>EC</th>\n",
       "      <th>lig_class</th>\n",
       "      <th>class_name</th>\n",
       "      <th>jacc</th>\n",
       "      <th>num_res</th>\n",
       "    </tr>\n",
       "  </thead>\n",
       "  <tbody>\n",
       "    <tr>\n",
       "      <th>P0A9U1_1</th>\n",
       "      <td>ECOLI</td>\n",
       "      <td>CHEBI:30616</td>\n",
       "      <td>ATP</td>\n",
       "      <td>[362, 363, 364, 365, 366, 367, 368, 369]</td>\n",
       "      <td>CHEBI:61296</td>\n",
       "      <td>ECO:0000255</td>\n",
       "      <td>True</td>\n",
       "      <td>0.649</td>\n",
       "      <td>False</td>\n",
       "      <td>No EC</td>\n",
       "      <td>CHEBI:36976</td>\n",
       "      <td>Nucleobase/nucleoside/nucleotide</td>\n",
       "      <td>0.62</td>\n",
       "      <td>8</td>\n",
       "    </tr>\n",
       "    <tr>\n",
       "      <th>P0A836_0</th>\n",
       "      <td>ECOLI</td>\n",
       "      <td>CHEBI:30616</td>\n",
       "      <td>ATP</td>\n",
       "      <td>[46, 53, 54, 55, 99, 102, 107]</td>\n",
       "      <td>CHEBI:61296</td>\n",
       "      <td>ECO:0000255</td>\n",
       "      <td>True</td>\n",
       "      <td>0.968</td>\n",
       "      <td>False</td>\n",
       "      <td>EC 6.-.-.-</td>\n",
       "      <td>CHEBI:36976</td>\n",
       "      <td>Nucleobase/nucleoside/nucleotide</td>\n",
       "      <td>1.00</td>\n",
       "      <td>7</td>\n",
       "    </tr>\n",
       "    <tr>\n",
       "      <th>P0AFQ7_0</th>\n",
       "      <td>ECOLI</td>\n",
       "      <td>CHEBI:60240</td>\n",
       "      <td>a divalent metal cation</td>\n",
       "      <td>[7, 9, 94, 205]</td>\n",
       "      <td>No cofactor</td>\n",
       "      <td>ECO:0000269</td>\n",
       "      <td>True</td>\n",
       "      <td>0.886</td>\n",
       "      <td>False</td>\n",
       "      <td>EC 3.-.-.-</td>\n",
       "      <td>CHEBI:24867</td>\n",
       "      <td>Inorganic ion</td>\n",
       "      <td>0.75</td>\n",
       "      <td>4</td>\n",
       "    </tr>\n",
       "    <tr>\n",
       "      <th>P31553_0</th>\n",
       "      <td>ECOLI</td>\n",
       "      <td>CHEBI:16347</td>\n",
       "      <td>(R)-carnitine</td>\n",
       "      <td>[327, 328, 329, 330]</td>\n",
       "      <td>No cofactor</td>\n",
       "      <td>ECO:0000269</td>\n",
       "      <td>True</td>\n",
       "      <td>0.983</td>\n",
       "      <td>False</td>\n",
       "      <td>No EC</td>\n",
       "      <td>CHEBI:83821</td>\n",
       "      <td>AA &amp; derivatives</td>\n",
       "      <td>0.50</td>\n",
       "      <td>4</td>\n",
       "    </tr>\n",
       "    <tr>\n",
       "      <th>P76187_0</th>\n",
       "      <td>ECOLI</td>\n",
       "      <td>CHEBI:58349</td>\n",
       "      <td>NADP(+)</td>\n",
       "      <td>[158, 159, 209, 210, 211, 212, 213, 214, 215, ...</td>\n",
       "      <td>CHEBI:25524</td>\n",
       "      <td>ECO:0000269</td>\n",
       "      <td>True</td>\n",
       "      <td>0.700</td>\n",
       "      <td>False</td>\n",
       "      <td>EC 1.-.-.-</td>\n",
       "      <td>CHEBI:36976</td>\n",
       "      <td>Nucleobase/nucleoside/nucleotide</td>\n",
       "      <td>0.31</td>\n",
       "      <td>16</td>\n",
       "    </tr>\n",
       "    <tr>\n",
       "      <th>...</th>\n",
       "      <td>...</td>\n",
       "      <td>...</td>\n",
       "      <td>...</td>\n",
       "      <td>...</td>\n",
       "      <td>...</td>\n",
       "      <td>...</td>\n",
       "      <td>...</td>\n",
       "      <td>...</td>\n",
       "      <td>...</td>\n",
       "      <td>...</td>\n",
       "      <td>...</td>\n",
       "      <td>...</td>\n",
       "      <td>...</td>\n",
       "      <td>...</td>\n",
       "    </tr>\n",
       "    <tr>\n",
       "      <th>Q9UIJ7_1</th>\n",
       "      <td>HUMAN</td>\n",
       "      <td>CHEBI:456215</td>\n",
       "      <td>AMP</td>\n",
       "      <td>[38, 43, 64, 65, 66, 91, 92, 93, 94, 98, 161, ...</td>\n",
       "      <td>CHEBI:61296</td>\n",
       "      <td>ECO:0000255</td>\n",
       "      <td>True</td>\n",
       "      <td>0.990</td>\n",
       "      <td>False</td>\n",
       "      <td>EC 2.-.-.-</td>\n",
       "      <td>CHEBI:36976</td>\n",
       "      <td>Nucleobase/nucleoside/nucleotide</td>\n",
       "      <td>0.92</td>\n",
       "      <td>12</td>\n",
       "    </tr>\n",
       "    <tr>\n",
       "      <th>Q9UHD8_0</th>\n",
       "      <td>HUMAN</td>\n",
       "      <td>CHEBI:37565</td>\n",
       "      <td>GTP</td>\n",
       "      <td>[305, 306, 307, 308, 309, 310, 311, 312, 339, ...</td>\n",
       "      <td>No cofactor</td>\n",
       "      <td>ECO:0000250</td>\n",
       "      <td>True</td>\n",
       "      <td>0.579</td>\n",
       "      <td>False</td>\n",
       "      <td>No EC</td>\n",
       "      <td>CHEBI:36976</td>\n",
       "      <td>Nucleobase/nucleoside/nucleotide</td>\n",
       "      <td>0.57</td>\n",
       "      <td>21</td>\n",
       "    </tr>\n",
       "    <tr>\n",
       "      <th>Q9Y5S8_0</th>\n",
       "      <td>HUMAN</td>\n",
       "      <td>CHEBI:57692</td>\n",
       "      <td>FAD</td>\n",
       "      <td>[338, 339, 340, 341, 342, 343, 344]</td>\n",
       "      <td>CHEBI:36981</td>\n",
       "      <td>ECO:0000255</td>\n",
       "      <td>True</td>\n",
       "      <td>0.948</td>\n",
       "      <td>False</td>\n",
       "      <td>EC 1.-.-.-</td>\n",
       "      <td>CHEBI:36976</td>\n",
       "      <td>Nucleobase/nucleoside/nucleotide</td>\n",
       "      <td>0.14</td>\n",
       "      <td>7</td>\n",
       "    </tr>\n",
       "    <tr>\n",
       "      <th>P62333_0</th>\n",
       "      <td>HUMAN</td>\n",
       "      <td>CHEBI:30616</td>\n",
       "      <td>ATP</td>\n",
       "      <td>[174, 175, 176, 177, 178, 179, 180, 181]</td>\n",
       "      <td>CHEBI:61296</td>\n",
       "      <td>ECO:0000255</td>\n",
       "      <td>True</td>\n",
       "      <td>0.886</td>\n",
       "      <td>False</td>\n",
       "      <td>No EC</td>\n",
       "      <td>CHEBI:36976</td>\n",
       "      <td>Nucleobase/nucleoside/nucleotide</td>\n",
       "      <td>0.88</td>\n",
       "      <td>8</td>\n",
       "    </tr>\n",
       "    <tr>\n",
       "      <th>Q14123_0</th>\n",
       "      <td>HUMAN</td>\n",
       "      <td>CHEBI:29105</td>\n",
       "      <td>Zn(2+)</td>\n",
       "      <td>[232, 268, 269, 376]</td>\n",
       "      <td>CHEBI:36914</td>\n",
       "      <td>ECO:0000250</td>\n",
       "      <td>True</td>\n",
       "      <td>0.972</td>\n",
       "      <td>False</td>\n",
       "      <td>EC 3.-.-.-</td>\n",
       "      <td>CHEBI:24867</td>\n",
       "      <td>Inorganic ion</td>\n",
       "      <td>0.50</td>\n",
       "      <td>4</td>\n",
       "    </tr>\n",
       "  </tbody>\n",
       "</table>\n",
       "<p>11540 rows × 14 columns</p>\n",
       "</div>"
      ],
      "text/plain": [
       "            org        ligand                 lig_name  \\\n",
       "P0A9U1_1  ECOLI   CHEBI:30616                      ATP   \n",
       "P0A836_0  ECOLI   CHEBI:30616                      ATP   \n",
       "P0AFQ7_0  ECOLI   CHEBI:60240  a divalent metal cation   \n",
       "P31553_0  ECOLI   CHEBI:16347            (R)-carnitine   \n",
       "P76187_0  ECOLI   CHEBI:58349                  NADP(+)   \n",
       "...         ...           ...                      ...   \n",
       "Q9UIJ7_1  HUMAN  CHEBI:456215                      AMP   \n",
       "Q9UHD8_0  HUMAN   CHEBI:37565                      GTP   \n",
       "Q9Y5S8_0  HUMAN   CHEBI:57692                      FAD   \n",
       "P62333_0  HUMAN   CHEBI:30616                      ATP   \n",
       "Q14123_0  HUMAN   CHEBI:29105                   Zn(2+)   \n",
       "\n",
       "                                                        res           cf  \\\n",
       "P0A9U1_1           [362, 363, 364, 365, 366, 367, 368, 369]  CHEBI:61296   \n",
       "P0A836_0                     [46, 53, 54, 55, 99, 102, 107]  CHEBI:61296   \n",
       "P0AFQ7_0                                    [7, 9, 94, 205]  No cofactor   \n",
       "P31553_0                               [327, 328, 329, 330]  No cofactor   \n",
       "P76187_0  [158, 159, 209, 210, 211, 212, 213, 214, 215, ...  CHEBI:25524   \n",
       "...                                                     ...          ...   \n",
       "Q9UIJ7_1  [38, 43, 64, 65, 66, 91, 92, 93, 94, 98, 161, ...  CHEBI:61296   \n",
       "Q9UHD8_0  [305, 306, 307, 308, 309, 310, 311, 312, 339, ...  No cofactor   \n",
       "Q9Y5S8_0                [338, 339, 340, 341, 342, 343, 344]  CHEBI:36981   \n",
       "P62333_0           [174, 175, 176, 177, 178, 179, 180, 181]  CHEBI:61296   \n",
       "Q14123_0                               [232, 268, 269, 376]  CHEBI:36914   \n",
       "\n",
       "             evidence  found   prob  is_inter          EC    lig_class  \\\n",
       "P0A9U1_1  ECO:0000255   True  0.649     False       No EC  CHEBI:36976   \n",
       "P0A836_0  ECO:0000255   True  0.968     False  EC 6.-.-.-  CHEBI:36976   \n",
       "P0AFQ7_0  ECO:0000269   True  0.886     False  EC 3.-.-.-  CHEBI:24867   \n",
       "P31553_0  ECO:0000269   True  0.983     False       No EC  CHEBI:83821   \n",
       "P76187_0  ECO:0000269   True  0.700     False  EC 1.-.-.-  CHEBI:36976   \n",
       "...               ...    ...    ...       ...         ...          ...   \n",
       "Q9UIJ7_1  ECO:0000255   True  0.990     False  EC 2.-.-.-  CHEBI:36976   \n",
       "Q9UHD8_0  ECO:0000250   True  0.579     False       No EC  CHEBI:36976   \n",
       "Q9Y5S8_0  ECO:0000255   True  0.948     False  EC 1.-.-.-  CHEBI:36976   \n",
       "P62333_0  ECO:0000255   True  0.886     False       No EC  CHEBI:36976   \n",
       "Q14123_0  ECO:0000250   True  0.972     False  EC 3.-.-.-  CHEBI:24867   \n",
       "\n",
       "                                class_name  jacc  num_res  \n",
       "P0A9U1_1  Nucleobase/nucleoside/nucleotide  0.62        8  \n",
       "P0A836_0  Nucleobase/nucleoside/nucleotide  1.00        7  \n",
       "P0AFQ7_0                     Inorganic ion  0.75        4  \n",
       "P31553_0                  AA & derivatives  0.50        4  \n",
       "P76187_0  Nucleobase/nucleoside/nucleotide  0.31       16  \n",
       "...                                    ...   ...      ...  \n",
       "Q9UIJ7_1  Nucleobase/nucleoside/nucleotide  0.92       12  \n",
       "Q9UHD8_0  Nucleobase/nucleoside/nucleotide  0.57       21  \n",
       "Q9Y5S8_0  Nucleobase/nucleoside/nucleotide  0.14        7  \n",
       "P62333_0  Nucleobase/nucleoside/nucleotide  0.88        8  \n",
       "Q14123_0                     Inorganic ion  0.50        4  \n",
       "\n",
       "[11540 rows x 14 columns]"
      ]
     },
     "execution_count": 119,
     "metadata": {},
     "output_type": "execute_result"
    }
   ],
   "source": [
    "known_pockets[(known_pockets[\"found\"] == True) & (known_pockets[\"prob\"] >= 0.5)]"
   ]
  },
  {
   "cell_type": "code",
   "execution_count": 136,
   "id": "a483ccfd",
   "metadata": {},
   "outputs": [
    {
     "name": "stderr",
     "output_type": "stream",
     "text": [
      "/tmp/ipykernel_13926/1121940884.py:7: UserWarning:\n",
      "\n",
      "FixedFormatter should only be used together with FixedLocator\n",
      "\n"
     ]
    },
    {
     "data": {
      "text/plain": [
       "[Text(0, 0, 'Nucleobase/nucleoside/nucleotide'),\n",
       " Text(1, 0, 'Inorganic ion'),\n",
       " Text(2, 0, 'Other compound'),\n",
       " Text(3, 0, 'AA & derivatives'),\n",
       " Text(4, 0, 'Lipid'),\n",
       " Text(5, 0, 'Carbohydrate & derivatives'),\n",
       " Text(6, 0, 'Hetero nuclear cluster'),\n",
       " Text(7, 0, 'Oligo- & polypeptide'),\n",
       " Text(8, 0, 'Monosaccharide & derivatives'),\n",
       " Text(9, 0, 'Heme'),\n",
       " Text(10, 0, 'Glycan'),\n",
       " Text(11, 0, 'Nucleic acid')]"
      ]
     },
     "execution_count": 136,
     "metadata": {},
     "output_type": "execute_result"
    },
    {
     "data": {
      "image/png": "[encoded data removed]",
      "text/plain": [
       "<Figure size 640x480 with 1 Axes>"
      ]
     },
     "metadata": {},
     "output_type": "display_data"
    }
   ],
   "source": [
    "import seaborn as sns\n",
    "import matplotlib.pyplot as plt\n",
    "\n",
    "fig = plt.figure()\n",
    "ax = fig.add_subplot(111)\n",
    "sns.violinplot(x=\"class_name\", y=\"jacc\", hue=\"class_name\", data=known_pockets, palette=class_color, ax=ax)\n",
    "ax.set_xticklabels(ax.get_xticklabels(), rotation=45)\n"
   ]
  },
  {
   "cell_type": "code",
   "execution_count": 100,
   "id": "5f575991-023b-41aa-a6aa-27f16ae27c63",
   "metadata": {},
   "outputs": [
    {
     "data": {
      "application/vnd.plotly.v1+json": {
       "config": {
        "plotlyServerURL": "https://plot.ly"
       },
       "data": [
        {
         "domain": {
          "x": [
           0,
           0.45
          ],
          "y": [
           0,
           1
          ]
         },
         "labels": [
          "Other compound (1410)",
          "Monosaccharide & derivatives (105)",
          "Glycan (41)",
          "Carbohydrate & derivatives (651)",
          "AA & derivatives (395)",
          "Nucleobase/nucleoside/nucleotide (10173)",
          "Nucleic acid (7)",
          "Lipid (267)",
          "Inorganic ion (8456)",
          "Hetero nuclear cluster (517)",
          "Heme (13)"
         ],
         "texttemplate": "%{percent:.2%}",
         "type": "pie",
         "values": [
          888,
          42,
          36,
          478,
          212,
          6100,
          0,
          141,
          1084,
          62,
          13
         ]
        },
        {
         "domain": {
          "x": [
           0.55,
           1
          ],
          "y": [
           0,
           1
          ]
         },
         "labels": [
          "Other compound (1410)",
          "Monosaccharide & derivatives (105)",
          "Glycan (41)",
          "Carbohydrate & derivatives (651)",
          "AA & derivatives (395)",
          "Nucleobase/nucleoside/nucleotide (10173)",
          "Nucleic acid (7)",
          "Lipid (267)",
          "Inorganic ion (8456)",
          "Hetero nuclear cluster (517)",
          "Heme (13)"
         ],
         "marker": {
          "colors": [
           "gray",
           "#AA0DFE",
           "#800080",
           "#FF00FF",
           "#00FF00",
           "#0000FF",
           "#40E0D0",
           "#FF0000",
           "#FF9DA6",
           "#FF7F00",
           "#FFFF00"
          ]
         },
         "texttemplate": "%{percent:.2%}",
         "type": "pie",
         "values": [
          522,
          63,
          5,
          173,
          183,
          4073,
          7,
          126,
          7372,
          455,
          0
         ]
        }
       ],
       "layout": {
        "annotations": [
         {
          "font": {
           "size": 16
          },
          "showarrow": false,
          "text": "<b>Found</b>",
          "x": 0.225,
          "xanchor": "center",
          "xref": "paper",
          "y": 1,
          "yanchor": "bottom",
          "yref": "paper"
         },
         {
          "font": {
           "size": 16
          },
          "showarrow": false,
          "text": "<b>Not found</b>",
          "x": 0.775,
          "xanchor": "center",
          "xref": "paper",
          "y": 1,
          "yanchor": "bottom",
          "yref": "paper"
         }
        ],
        "font": {
         "color": "black",
         "family": "Arial",
         "size": 12
        },
        "height": 350,
        "margin": {
         "b": 10,
         "l": 20,
         "r": 20,
         "t": 20
        },
        "template": {
         "data": {
          "bar": [
           {
            "error_x": {
             "color": "#2a3f5f"
            },
            "error_y": {
             "color": "#2a3f5f"
            },
            "marker": {
             "line": {
              "color": "#E5ECF6",
              "width": 0.5
             },
             "pattern": {
              "fillmode": "overlay",
              "size": 10,
              "solidity": 0.2
             }
            },
            "type": "bar"
           }
          ],
          "barpolar": [
           {
            "marker": {
             "line": {
              "color": "#E5ECF6",
              "width": 0.5
             },
             "pattern": {
              "fillmode": "overlay",
              "size": 10,
              "solidity": 0.2
             }
            },
            "type": "barpolar"
           }
          ],
          "carpet": [
           {
            "aaxis": {
             "endlinecolor": "#2a3f5f",
             "gridcolor": "white",
             "linecolor": "white",
             "minorgridcolor": "white",
             "startlinecolor": "#2a3f5f"
            },
            "baxis": {
             "endlinecolor": "#2a3f5f",
             "gridcolor": "white",
             "linecolor": "white",
             "minorgridcolor": "white",
             "startlinecolor": "#2a3f5f"
            },
            "type": "carpet"
           }
          ],
          "choropleth": [
           {
            "colorbar": {
             "outlinewidth": 0,
             "ticks": ""
            },
            "type": "choropleth"
           }
          ],
          "contour": [
           {
            "colorbar": {
             "outlinewidth": 0,
             "ticks": ""
            },
            "colorscale": [
             [
              0,
              "#0d0887"
             ],
             [
              0.1111111111111111,
              "#46039f"
             ],
             [
              0.2222222222222222,
              "#7201a8"
             ],
             [
              0.3333333333333333,
              "#9c179e"
             ],
             [
              0.4444444444444444,
              "#bd3786"
             ],
             [
              0.5555555555555556,
              "#d8576b"
             ],
             [
              0.6666666666666666,
              "#ed7953"
             ],
             [
              0.7777777777777778,
              "#fb9f3a"
             ],
             [
              0.8888888888888888,
              "#fdca26"
             ],
             [
              1,
              "#f0f921"
             ]
            ],
            "type": "contour"
           }
          ],
          "contourcarpet": [
           {
            "colorbar": {
             "outlinewidth": 0,
             "ticks": ""
            },
            "type": "contourcarpet"
           }
          ],
          "heatmap": [
           {
            "colorbar": {
             "outlinewidth": 0,
             "ticks": ""
            },
            "colorscale": [
             [
              0,
              "#0d0887"
             ],
             [
              0.1111111111111111,
              "#46039f"
             ],
             [
              0.2222222222222222,
              "#7201a8"
             ],
             [
              0.3333333333333333,
              "#9c179e"
             ],
             [
              0.4444444444444444,
              "#bd3786"
             ],
             [
              0.5555555555555556,
              "#d8576b"
             ],
             [
              0.6666666666666666,
              "#ed7953"
             ],
             [
              0.7777777777777778,
              "#fb9f3a"
             ],
             [
              0.8888888888888888,
              "#fdca26"
             ],
             [
              1,
              "#f0f921"
             ]
            ],
            "type": "heatmap"
           }
          ],
          "heatmapgl": [
           {
            "colorbar": {
             "outlinewidth": 0,
             "ticks": ""
            },
            "colorscale": [
             [
              0,
              "#0d0887"
             ],
             [
              0.1111111111111111,
              "#46039f"
             ],
             [
              0.2222222222222222,
              "#7201a8"
             ],
             [
              0.3333333333333333,
              "#9c179e"
             ],
             [
              0.4444444444444444,
              "#bd3786"
             ],
             [
              0.5555555555555556,
              "#d8576b"
             ],
             [
              0.6666666666666666,
              "#ed7953"
             ],
             [
              0.7777777777777778,
              "#fb9f3a"
             ],
             [
              0.8888888888888888,
              "#fdca26"
             ],
             [
              1,
              "#f0f921"
             ]
            ],
            "type": "heatmapgl"
           }
          ],
          "histogram": [
           {
            "marker": {
             "pattern": {
              "fillmode": "overlay",
              "size": 10,
              "solidity": 0.2
             }
            },
            "type": "histogram"
           }
          ],
          "histogram2d": [
           {
            "colorbar": {
             "outlinewidth": 0,
             "ticks": ""
            },
            "colorscale": [
             [
              0,
              "#0d0887"
             ],
             [
              0.1111111111111111,
              "#46039f"
             ],
             [
              0.2222222222222222,
              "#7201a8"
             ],
             [
              0.3333333333333333,
              "#9c179e"
             ],
             [
              0.4444444444444444,
              "#bd3786"
             ],
             [
              0.5555555555555556,
              "#d8576b"
             ],
             [
              0.6666666666666666,
              "#ed7953"
             ],
             [
              0.7777777777777778,
              "#fb9f3a"
             ],
             [
              0.8888888888888888,
              "#fdca26"
             ],
             [
              1,
              "#f0f921"
             ]
            ],
            "type": "histogram2d"
           }
          ],
          "histogram2dcontour": [
           {
            "colorbar": {
             "outlinewidth": 0,
             "ticks": ""
            },
            "colorscale": [
             [
              0,
              "#0d0887"
             ],
             [
              0.1111111111111111,
              "#46039f"
             ],
             [
              0.2222222222222222,
              "#7201a8"
             ],
             [
              0.3333333333333333,
              "#9c179e"
             ],
             [
              0.4444444444444444,
              "#bd3786"
             ],
             [
              0.5555555555555556,
              "#d8576b"
             ],
             [
              0.6666666666666666,
              "#ed7953"
             ],
             [
              0.7777777777777778,
              "#fb9f3a"
             ],
             [
              0.8888888888888888,
              "#fdca26"
             ],
             [
              1,
              "#f0f921"
             ]
            ],
            "type": "histogram2dcontour"
           }
          ],
          "mesh3d": [
           {
            "colorbar": {
             "outlinewidth": 0,
             "ticks": ""
            },
            "type": "mesh3d"
           }
          ],
          "parcoords": [
           {
            "line": {
             "colorbar": {
              "outlinewidth": 0,
              "ticks": ""
             }
            },
            "type": "parcoords"
           }
          ],
          "pie": [
           {
            "automargin": true,
            "type": "pie"
           }
          ],
          "scatter": [
           {
            "fillpattern": {
             "fillmode": "overlay",
             "size": 10,
             "solidity": 0.2
            },
            "type": "scatter"
           }
          ],
          "scatter3d": [
           {
            "line": {
             "colorbar": {
              "outlinewidth": 0,
              "ticks": ""
             }
            },
            "marker": {
             "colorbar": {
              "outlinewidth": 0,
              "ticks": ""
             }
            },
            "type": "scatter3d"
           }
          ],
          "scattercarpet": [
           {
            "marker": {
             "colorbar": {
              "outlinewidth": 0,
              "ticks": ""
             }
            },
            "type": "scattercarpet"
           }
          ],
          "scattergeo": [
           {
            "marker": {
             "colorbar": {
              "outlinewidth": 0,
              "ticks": ""
             }
            },
            "type": "scattergeo"
           }
          ],
          "scattergl": [
           {
            "marker": {
             "colorbar": {
              "outlinewidth": 0,
              "ticks": ""
             }
            },
            "type": "scattergl"
           }
          ],
          "scattermapbox": [
           {
            "marker": {
             "colorbar": {
              "outlinewidth": 0,
              "ticks": ""
             }
            },
            "type": "scattermapbox"
           }
          ],
          "scatterpolar": [
           {
            "marker": {
             "colorbar": {
              "outlinewidth": 0,
              "ticks": ""
             }
            },
            "type": "scatterpolar"
           }
          ],
          "scatterpolargl": [
           {
            "marker": {
             "colorbar": {
              "outlinewidth": 0,
              "ticks": ""
             }
            },
            "type": "scatterpolargl"
           }
          ],
          "scatterternary": [
           {
            "marker": {
             "colorbar": {
              "outlinewidth": 0,
              "ticks": ""
             }
            },
            "type": "scatterternary"
           }
          ],
          "surface": [
           {
            "colorbar": {
             "outlinewidth": 0,
             "ticks": ""
            },
            "colorscale": [
             [
              0,
              "#0d0887"
             ],
             [
              0.1111111111111111,
              "#46039f"
             ],
             [
              0.2222222222222222,
              "#7201a8"
             ],
             [
              0.3333333333333333,
              "#9c179e"
             ],
             [
              0.4444444444444444,
              "#bd3786"
             ],
             [
              0.5555555555555556,
              "#d8576b"
             ],
             [
              0.6666666666666666,
              "#ed7953"
             ],
             [
              0.7777777777777778,
              "#fb9f3a"
             ],
             [
              0.8888888888888888,
              "#fdca26"
             ],
             [
              1,
              "#f0f921"
             ]
            ],
            "type": "surface"
           }
          ],
          "table": [
           {
            "cells": {
             "fill": {
              "color": "#EBF0F8"
             },
             "line": {
              "color": "white"
             }
            },
            "header": {
             "fill": {
              "color": "#C8D4E3"
             },
             "line": {
              "color": "white"
             }
            },
            "type": "table"
           }
          ]
         },
         "layout": {
          "annotationdefaults": {
           "arrowcolor": "#2a3f5f",
           "arrowhead": 0,
           "arrowwidth": 1
          },
          "autotypenumbers": "strict",
          "coloraxis": {
           "colorbar": {
            "outlinewidth": 0,
            "ticks": ""
           }
          },
          "colorscale": {
           "diverging": [
            [
             0,
             "#8e0152"
            ],
            [
             0.1,
             "#c51b7d"
            ],
            [
             0.2,
             "#de77ae"
            ],
            [
             0.3,
             "#f1b6da"
            ],
            [
             0.4,
             "#fde0ef"
            ],
            [
             0.5,
             "#f7f7f7"
            ],
            [
             0.6,
             "#e6f5d0"
            ],
            [
             0.7,
             "#b8e186"
            ],
            [
             0.8,
             "#7fbc41"
            ],
            [
             0.9,
             "#4d9221"
            ],
            [
             1,
             "#276419"
            ]
           ],
           "sequential": [
            [
             0,
             "#0d0887"
            ],
            [
             0.1111111111111111,
             "#46039f"
            ],
            [
             0.2222222222222222,
             "#7201a8"
            ],
            [
             0.3333333333333333,
             "#9c179e"
            ],
            [
             0.4444444444444444,
             "#bd3786"
            ],
            [
             0.5555555555555556,
             "#d8576b"
            ],
            [
             0.6666666666666666,
             "#ed7953"
            ],
            [
             0.7777777777777778,
             "#fb9f3a"
            ],
            [
             0.8888888888888888,
             "#fdca26"
            ],
            [
             1,
             "#f0f921"
            ]
           ],
           "sequentialminus": [
            [
             0,
             "#0d0887"
            ],
            [
             0.1111111111111111,
             "#46039f"
            ],
            [
             0.2222222222222222,
             "#7201a8"
            ],
            [
             0.3333333333333333,
             "#9c179e"
            ],
            [
             0.4444444444444444,
             "#bd3786"
            ],
            [
             0.5555555555555556,
             "#d8576b"
            ],
            [
             0.6666666666666666,
             "#ed7953"
            ],
            [
             0.7777777777777778,
             "#fb9f3a"
            ],
            [
             0.8888888888888888,
             "#fdca26"
            ],
            [
             1,
             "#f0f921"
            ]
           ]
          },
          "colorway": [
           "#636efa",
           "#EF553B",
           "#00cc96",
           "#ab63fa",
           "#FFA15A",
           "#19d3f3",
           "#FF6692",
           "#B6E880",
           "#FF97FF",
           "#FECB52"
          ],
          "font": {
           "color": "#2a3f5f"
          },
          "geo": {
           "bgcolor": "white",
           "lakecolor": "white",
           "landcolor": "#E5ECF6",
           "showlakes": true,
           "showland": true,
           "subunitcolor": "white"
          },
          "hoverlabel": {
           "align": "left"
          },
          "hovermode": "closest",
          "mapbox": {
           "style": "light"
          },
          "paper_bgcolor": "white",
          "plot_bgcolor": "#E5ECF6",
          "polar": {
           "angularaxis": {
            "gridcolor": "white",
            "linecolor": "white",
            "ticks": ""
           },
           "bgcolor": "#E5ECF6",
           "radialaxis": {
            "gridcolor": "white",
            "linecolor": "white",
            "ticks": ""
           }
          },
          "scene": {
           "xaxis": {
            "backgroundcolor": "#E5ECF6",
            "gridcolor": "white",
            "gridwidth": 2,
            "linecolor": "white",
            "showbackground": true,
            "ticks": "",
            "zerolinecolor": "white"
           },
           "yaxis": {
            "backgroundcolor": "#E5ECF6",
            "gridcolor": "white",
            "gridwidth": 2,
            "linecolor": "white",
            "showbackground": true,
            "ticks": "",
            "zerolinecolor": "white"
           },
           "zaxis": {
            "backgroundcolor": "#E5ECF6",
            "gridcolor": "white",
            "gridwidth": 2,
            "linecolor": "white",
            "showbackground": true,
            "ticks": "",
            "zerolinecolor": "white"
           }
          },
          "shapedefaults": {
           "line": {
            "color": "#2a3f5f"
           }
          },
          "ternary": {
           "aaxis": {
            "gridcolor": "white",
            "linecolor": "white",
            "ticks": ""
           },
           "baxis": {
            "gridcolor": "white",
            "linecolor": "white",
            "ticks": ""
           },
           "bgcolor": "#E5ECF6",
           "caxis": {
            "gridcolor": "white",
            "linecolor": "white",
            "ticks": ""
           }
          },
          "title": {
           "x": 0.05
          },
          "xaxis": {
           "automargin": true,
           "gridcolor": "white",
           "linecolor": "white",
           "ticks": "",
           "title": {
            "standoff": 15
           },
           "zerolinecolor": "white",
           "zerolinewidth": 2
          },
          "yaxis": {
           "automargin": true,
           "gridcolor": "white",
           "linecolor": "white",
           "ticks": "",
           "title": {
            "standoff": 15
           },
           "zerolinecolor": "white",
           "zerolinewidth": 2
          }
         }
        },
        "width": 900
       }
      }
     },
     "metadata": {},
     "output_type": "display_data"
    }
   ],
   "source": [
    "fig = make_subplots(rows=1, cols=2, specs=[[{\"type\": \"pie\"}, {\"type\": \"pie\"}]], subplot_titles=[\"<b>Found</b>\", \"<b>Not found</b>\"])\n",
    "\n",
    "tmp = known_pockets[(known_pockets[\"found\"] == True) & (known_pockets[\"prob\"] >= 0.5)]\n",
    "count_dict = Counter(tmp[\"class_name\"])\n",
    "count_df = pd.DataFrame(list(zip(count_dict.keys(), count_dict.values())), columns = [\"lig_class\", \"count\"])\n",
    "count_df[\"colors\"] = count_df[\"lig_class\"].map(class_color)\n",
    "count_df[\"legend\"] = count_df[\"lig_class\"].map(num_dict)\n",
    "labels = [lig_class for lig_class in class_color2.keys()]\n",
    "vals = [count_dict.get(lig_class, 0) for lig_class in class_color.keys() if lig_class in num_dict]\n",
    "fig.add_trace(go.Pie(labels=labels, values=vals), row=1, col =1)\n",
    "\n",
    "tmp = known_pockets[(known_pockets[\"found\"] == False) | (known_pockets[\"prob\"] < 0.5)]\n",
    "count_dict = Counter(tmp[\"class_name\"])\n",
    "labels = [lig_class for lig_class in class_color2.keys()]\n",
    "vals = [count_dict.get(lig_class, 0) for lig_class in class_color.keys() if lig_class in num_dict]\n",
    "fig.add_trace(go.Pie(labels=labels,\n",
    "                     values=vals,\n",
    "                     marker=dict(colors=list(class_color2.values()))), row=1, col =2)\n",
    "\n",
    "fig.update_layout(width = 900, height=350,\n",
    "                 font=dict(size=12, color=\"black\", family=\"Arial\"),\n",
    "                 margin=dict(l=20, r=20, t=20, b=10))\n",
    "fig.update_traces(texttemplate='%{percent:.2%}')\n",
    "fig.write_image(f\"{out_dir}/REVISION/ligands_found_pie.png\", scale=1, width=900, height=350)\n",
    "fig.show()"
   ]
  },
  {
   "cell_type": "code",
   "execution_count": null,
   "id": "332c7f2f-872d-433a-a887-e2a2e4d472e0",
   "metadata": {},
   "outputs": [],
   "source": []
  }
 ],
 "metadata": {
  "kernelspec": {
   "display_name": "pocket2mol",
   "language": "python",
   "name": "python3"
  },
  "language_info": {
   "codemirror_mode": {
    "name": "ipython",
    "version": 3
   },
   "file_extension": ".py",
   "mimetype": "text/x-python",
   "name": "python",
   "nbconvert_exporter": "python",
   "pygments_lexer": "ipython3",
   "version": "3.8.12"
  }
 },
 "nbformat": 4,
 "nbformat_minor": 5
}
